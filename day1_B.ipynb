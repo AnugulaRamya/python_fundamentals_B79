{
 "cells": [
  {
   "cell_type": "code",
   "execution_count": 1,
   "id": "fc0430c5",
   "metadata": {},
   "outputs": [
    {
     "name": "stdout",
     "output_type": "stream",
     "text": [
      "Hello all Wellcome to the Python programing world\n"
     ]
    }
   ],
   "source": [
    "print(\"Hello all Wellcome to the Python programing world\")\n"
   ]
  },
  {
   "cell_type": "code",
   "execution_count": 2,
   "id": "c60f46df",
   "metadata": {},
   "outputs": [],
   "source": []
  },
  {
   "cell_type": "code",
   "execution_count": null,
   "id": "2d7f0fdb",
   "metadata": {},
   "outputs": [],
   "source": []
  }
 ],
 "metadata": {
  "kernelspec": {
   "display_name": "Python 3 (ipykernel)",
   "language": "python",
   "name": "python3"
  },
  "language_info": {
   "codemirror_mode": {
    "name": "ipython",
    "version": 3
   },
   "file_extension": ".py",
   "mimetype": "text/x-python",
   "name": "python",
   "nbconvert_exporter": "python",
   "pygments_lexer": "ipython3",
   "version": "3.11.3"
  }
 },
 "nbformat": 4,
 "nbformat_minor": 5
}
